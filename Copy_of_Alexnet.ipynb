{
  "nbformat": 4,
  "nbformat_minor": 0,
  "metadata": {
    "colab": {
      "provenance": [],
      "include_colab_link": true
    },
    "kernelspec": {
      "name": "python3",
      "display_name": "Python 3"
    },
    "language_info": {
      "name": "python"
    },
    "gpuClass": "standard"
  },
  "cells": [
    {
      "cell_type": "markdown",
      "metadata": {
        "id": "view-in-github",
        "colab_type": "text"
      },
      "source": [
        "<a href=\"https://colab.research.google.com/github/AAKAAASSHHH24/Computer-Vision/blob/main/Copy_of_Alexnet.ipynb\" target=\"_parent\"><img src=\"https://colab.research.google.com/assets/colab-badge.svg\" alt=\"Open In Colab\"/></a>"
      ]
    },
    {
      "cell_type": "code",
      "execution_count": 1,
      "metadata": {
        "id": "-YUhuwSNWkIR"
      },
      "outputs": [],
      "source": [
        "import tensorflow as tf\n",
        "from tensorflow import keras\n",
        "import keras\n",
        "from keras.models import Sequential\n",
        "from keras.layers import Dense, Activation, Dropout, Flatten, Conv2D, MaxPooling2D\n",
        "from tensorflow.keras.layers import BatchNormalization"
      ]
    },
    {
      "cell_type": "code",
      "source": [
        "!pip install tflearn "
      ],
      "metadata": {
        "colab": {
          "base_uri": "https://localhost:8080/"
        },
        "id": "iuIEOwl7W9CL",
        "outputId": "dde4310f-f7c6-4529-83fe-dc15fa569367"
      },
      "execution_count": 2,
      "outputs": [
        {
          "output_type": "stream",
          "name": "stdout",
          "text": [
            "Looking in indexes: https://pypi.org/simple, https://us-python.pkg.dev/colab-wheels/public/simple/\n",
            "Collecting tflearn\n",
            "  Downloading tflearn-0.5.0.tar.gz (107 kB)\n",
            "\u001b[K     |████████████████████████████████| 107 kB 9.0 MB/s \n",
            "\u001b[?25hRequirement already satisfied: numpy in /usr/local/lib/python3.7/dist-packages (from tflearn) (1.21.6)\n",
            "Requirement already satisfied: six in /usr/local/lib/python3.7/dist-packages (from tflearn) (1.15.0)\n",
            "Requirement already satisfied: Pillow in /usr/local/lib/python3.7/dist-packages (from tflearn) (7.1.2)\n",
            "Building wheels for collected packages: tflearn\n",
            "  Building wheel for tflearn (setup.py) ... \u001b[?25l\u001b[?25hdone\n",
            "  Created wheel for tflearn: filename=tflearn-0.5.0-py3-none-any.whl size=127299 sha256=8d7cde64cf925280ae57d35bdf243a7a158b53b8d0d6c6583f4c1f55abcbd99d\n",
            "  Stored in directory: /root/.cache/pip/wheels/5f/14/2e/1d8e28cc47a5a931a2fb82438c9e37ef9246cc6a3774520271\n",
            "Successfully built tflearn\n",
            "Installing collected packages: tflearn\n",
            "Successfully installed tflearn-0.5.0\n"
          ]
        }
      ]
    },
    {
      "cell_type": "code",
      "source": [
        "# Get Data\n",
        "import tflearn.datasets.oxflower17 as oxflower17\n",
        "x, y = oxflower17.load_data(one_hot=True)"
      ],
      "metadata": {
        "colab": {
          "base_uri": "https://localhost:8080/"
        },
        "id": "c60kGVJ5XCpN",
        "outputId": "ebca2e8e-9029-4325-c113-fdfc7c4d312d"
      },
      "execution_count": 3,
      "outputs": [
        {
          "output_type": "stream",
          "name": "stderr",
          "text": [
            "WARNING:tensorflow:From /usr/local/lib/python3.7/dist-packages/tensorflow/python/compat/v2_compat.py:107: disable_resource_variables (from tensorflow.python.ops.variable_scope) is deprecated and will be removed in a future version.\n",
            "Instructions for updating:\n",
            "non-resource variables are not supported in the long term\n"
          ]
        },
        {
          "output_type": "stream",
          "name": "stdout",
          "text": [
            "Downloading Oxford 17 category Flower Dataset, Please wait...\n"
          ]
        },
        {
          "output_type": "stream",
          "name": "stderr",
          "text": [
            "100.0% 60276736 / 60270631\n"
          ]
        },
        {
          "output_type": "stream",
          "name": "stdout",
          "text": [
            "Succesfully downloaded 17flowers.tgz 60270631 bytes.\n",
            "File Extracted\n",
            "Starting to parse images...\n",
            "Parsing Done!\n"
          ]
        }
      ]
    },
    {
      "cell_type": "code",
      "source": [
        "x"
      ],
      "metadata": {
        "colab": {
          "base_uri": "https://localhost:8080/"
        },
        "id": "Ermoh8NOXUHZ",
        "outputId": "bbec725f-37c7-4358-aba5-d4c61a13d7cf"
      },
      "execution_count": 4,
      "outputs": [
        {
          "output_type": "execute_result",
          "data": {
            "text/plain": [
              "array([[[[0.2627451 , 0.25882354, 0.18431373],\n",
              "         [0.23529412, 0.24313726, 0.18431373],\n",
              "         [0.14117648, 0.17254902, 0.1254902 ],\n",
              "         ...,\n",
              "         [0.26666668, 0.3137255 , 0.17254902],\n",
              "         [0.26666668, 0.30980393, 0.16862746],\n",
              "         [0.25882354, 0.28627452, 0.15294118]],\n",
              "\n",
              "        [[0.18039216, 0.16862746, 0.08627451],\n",
              "         [0.15294118, 0.16078432, 0.09411765],\n",
              "         [0.09411765, 0.12156863, 0.08235294],\n",
              "         ...,\n",
              "         [0.2901961 , 0.32156864, 0.19215687],\n",
              "         [0.3019608 , 0.32941177, 0.19607843],\n",
              "         [0.29411766, 0.3137255 , 0.18039216]],\n",
              "\n",
              "        [[0.1254902 , 0.11372549, 0.01176471],\n",
              "         [0.09019608, 0.09019608, 0.01960784],\n",
              "         [0.06666667, 0.07843138, 0.04705882],\n",
              "         ...,\n",
              "         [0.32156864, 0.33333334, 0.20784314],\n",
              "         [0.34509805, 0.35686275, 0.22745098],\n",
              "         [0.34509805, 0.34509805, 0.22352941]],\n",
              "\n",
              "        ...,\n",
              "\n",
              "        [[0.30588236, 0.38431373, 0.23137255],\n",
              "         [0.2627451 , 0.3882353 , 0.22745098],\n",
              "         [0.3019608 , 0.37254903, 0.23529412],\n",
              "         ...,\n",
              "         [0.12941177, 0.13333334, 0.07450981],\n",
              "         [0.0627451 , 0.07058824, 0.00784314],\n",
              "         [0.05490196, 0.05882353, 0.        ]],\n",
              "\n",
              "        [[0.28627452, 0.39215687, 0.23921569],\n",
              "         [0.30588236, 0.41960785, 0.2627451 ],\n",
              "         [0.28235295, 0.3647059 , 0.21568628],\n",
              "         ...,\n",
              "         [0.14509805, 0.14117648, 0.07843138],\n",
              "         [0.12941177, 0.12941177, 0.05882353],\n",
              "         [0.09411765, 0.09019608, 0.02352941]],\n",
              "\n",
              "        [[0.27058825, 0.38431373, 0.23529412],\n",
              "         [0.29411766, 0.40392157, 0.24705882],\n",
              "         [0.21960784, 0.3019608 , 0.15294118],\n",
              "         ...,\n",
              "         [0.19607843, 0.19215687, 0.11764706],\n",
              "         [0.15294118, 0.14901961, 0.07843138],\n",
              "         [0.12156863, 0.11764706, 0.04705882]]],\n",
              "\n",
              "\n",
              "       [[[0.5647059 , 0.5921569 , 0.41568628],\n",
              "         [0.46666667, 0.49803922, 0.3254902 ],\n",
              "         [0.34117648, 0.36862746, 0.19607843],\n",
              "         ...,\n",
              "         [0.2784314 , 0.34509805, 0.21568628],\n",
              "         [0.25490198, 0.3647059 , 0.21176471],\n",
              "         [0.10980392, 0.23529412, 0.07843138]],\n",
              "\n",
              "        [[0.5529412 , 0.5921569 , 0.39607844],\n",
              "         [0.45882353, 0.49803922, 0.3019608 ],\n",
              "         [0.34901962, 0.3882353 , 0.20392157],\n",
              "         ...,\n",
              "         [0.34509805, 0.4117647 , 0.23921569],\n",
              "         [0.2784314 , 0.38431373, 0.2       ],\n",
              "         [0.16470589, 0.28235295, 0.09411765]],\n",
              "\n",
              "        [[0.33333334, 0.40784314, 0.17254902],\n",
              "         [0.34117648, 0.41568628, 0.18431373],\n",
              "         [0.28235295, 0.34901962, 0.12941177],\n",
              "         ...,\n",
              "         [0.26666668, 0.33333334, 0.12941177],\n",
              "         [0.23137255, 0.3254902 , 0.10588235],\n",
              "         [0.12941177, 0.22745098, 0.01176471]],\n",
              "\n",
              "        ...,\n",
              "\n",
              "        [[0.11764706, 0.15686275, 0.06666667],\n",
              "         [0.02745098, 0.07058824, 0.00784314],\n",
              "         [0.3137255 , 0.36862746, 0.27450982],\n",
              "         ...,\n",
              "         [0.13725491, 0.34117648, 0.04313726],\n",
              "         [0.12941177, 0.34117648, 0.03921569],\n",
              "         [0.10196079, 0.30980393, 0.01176471]],\n",
              "\n",
              "        [[0.02745098, 0.05882353, 0.        ],\n",
              "         [0.09019608, 0.13725491, 0.07058824],\n",
              "         [0.48235294, 0.5411765 , 0.44705883],\n",
              "         ...,\n",
              "         [0.14117648, 0.33333334, 0.03529412],\n",
              "         [0.15294118, 0.35686275, 0.05098039],\n",
              "         [0.13333334, 0.34117648, 0.03529412]],\n",
              "\n",
              "        [[0.10980392, 0.15294118, 0.08627451],\n",
              "         [0.45490196, 0.50980395, 0.41960785],\n",
              "         [0.34901962, 0.41568628, 0.31764707],\n",
              "         ...,\n",
              "         [0.20392157, 0.39215687, 0.08627451],\n",
              "         [0.1882353 , 0.39215687, 0.08627451],\n",
              "         [0.13725491, 0.34509805, 0.03921569]]],\n",
              "\n",
              "\n",
              "       [[[0.29411766, 0.2627451 , 0.14901961],\n",
              "         [0.31764707, 0.26666668, 0.17254902],\n",
              "         [0.34901962, 0.28235295, 0.19607843],\n",
              "         ...,\n",
              "         [0.09411765, 0.16470589, 0.02352941],\n",
              "         [0.07450981, 0.16078432, 0.00784314],\n",
              "         [0.07058824, 0.16078432, 0.00392157]],\n",
              "\n",
              "        [[0.2509804 , 0.23137255, 0.12156863],\n",
              "         [0.24705882, 0.21568628, 0.08627451],\n",
              "         [0.30588236, 0.26666668, 0.11372549],\n",
              "         ...,\n",
              "         [0.11372549, 0.19215687, 0.03137255],\n",
              "         [0.09411765, 0.18039216, 0.01176471],\n",
              "         [0.08627451, 0.1764706 , 0.00784314]],\n",
              "\n",
              "        [[0.19607843, 0.19607843, 0.07843138],\n",
              "         [0.20392157, 0.20392157, 0.03921569],\n",
              "         [0.2784314 , 0.27450982, 0.03137255],\n",
              "         ...,\n",
              "         [0.11372549, 0.19607843, 0.01960784],\n",
              "         [0.11372549, 0.2       , 0.01568628],\n",
              "         [0.10980392, 0.2       , 0.01960784]],\n",
              "\n",
              "        ...,\n",
              "\n",
              "        [[0.09019608, 0.13333334, 0.0627451 ],\n",
              "         [0.04313726, 0.07843138, 0.01568628],\n",
              "         [0.01568628, 0.04313726, 0.        ],\n",
              "         ...,\n",
              "         [0.05098039, 0.09803922, 0.01568628],\n",
              "         [0.04705882, 0.10588235, 0.01176471],\n",
              "         [0.05490196, 0.10980392, 0.01960784]],\n",
              "\n",
              "        [[0.05882353, 0.10196079, 0.04313726],\n",
              "         [0.02352941, 0.05882353, 0.01176471],\n",
              "         [0.01960784, 0.04705882, 0.00784314],\n",
              "         ...,\n",
              "         [0.05098039, 0.08627451, 0.00784314],\n",
              "         [0.05098039, 0.08627451, 0.01960784],\n",
              "         [0.05490196, 0.08235294, 0.02745098]],\n",
              "\n",
              "        [[0.04313726, 0.08627451, 0.01960784],\n",
              "         [0.01176471, 0.04705882, 0.        ],\n",
              "         [0.01176471, 0.03529412, 0.00392157],\n",
              "         ...,\n",
              "         [0.0627451 , 0.07058824, 0.01568628],\n",
              "         [0.05882353, 0.0627451 , 0.01568628],\n",
              "         [0.05882353, 0.0627451 , 0.01568628]]],\n",
              "\n",
              "\n",
              "       ...,\n",
              "\n",
              "\n",
              "       [[[0.02745098, 0.02352941, 0.2509804 ],\n",
              "         [0.03137255, 0.02745098, 0.25490198],\n",
              "         [0.03921569, 0.03529412, 0.2627451 ],\n",
              "         ...,\n",
              "         [0.11372549, 0.14901961, 0.40392157],\n",
              "         [0.09803922, 0.13333334, 0.3882353 ],\n",
              "         [0.09019608, 0.1254902 , 0.38039216]],\n",
              "\n",
              "        [[0.03529412, 0.03137255, 0.25882354],\n",
              "         [0.03529412, 0.03137255, 0.25882354],\n",
              "         [0.03529412, 0.03137255, 0.25882354],\n",
              "         ...,\n",
              "         [0.11764706, 0.15294118, 0.40784314],\n",
              "         [0.10588235, 0.14117648, 0.39607844],\n",
              "         [0.10196079, 0.13725491, 0.39215687]],\n",
              "\n",
              "        [[0.03921569, 0.03529412, 0.2627451 ],\n",
              "         [0.03529412, 0.03137255, 0.25882354],\n",
              "         [0.03529412, 0.03137255, 0.25882354],\n",
              "         ...,\n",
              "         [0.12156863, 0.15686275, 0.4117647 ],\n",
              "         [0.11764706, 0.15294118, 0.40784314],\n",
              "         [0.11372549, 0.14901961, 0.40392157]],\n",
              "\n",
              "        ...,\n",
              "\n",
              "        [[0.08235294, 0.        , 0.00784314],\n",
              "         [0.09411765, 0.00784314, 0.01960784],\n",
              "         [0.12156863, 0.02352941, 0.03921569],\n",
              "         ...,\n",
              "         [0.23137255, 0.15686275, 0.20392157],\n",
              "         [0.21568628, 0.13725491, 0.18039216],\n",
              "         [0.2       , 0.11764706, 0.15686275]],\n",
              "\n",
              "        [[0.11372549, 0.03137255, 0.04705882],\n",
              "         [0.1254902 , 0.03921569, 0.06666667],\n",
              "         [0.15686275, 0.05490196, 0.09411765],\n",
              "         ...,\n",
              "         [0.23921569, 0.16078432, 0.2       ],\n",
              "         [0.21960784, 0.14117648, 0.1764706 ],\n",
              "         [0.2       , 0.12156863, 0.15686275]],\n",
              "\n",
              "        [[0.16862746, 0.08627451, 0.10196079],\n",
              "         [0.16470589, 0.07843138, 0.10980392],\n",
              "         [0.18431373, 0.07843138, 0.12941177],\n",
              "         ...,\n",
              "         [0.21960784, 0.14117648, 0.1764706 ],\n",
              "         [0.21176471, 0.13333334, 0.16862746],\n",
              "         [0.2       , 0.12156863, 0.15686275]]],\n",
              "\n",
              "\n",
              "       [[[0.03529412, 0.10980392, 0.14117648],\n",
              "         [0.01568628, 0.07843138, 0.0627451 ],\n",
              "         [0.04705882, 0.09019608, 0.02352941],\n",
              "         ...,\n",
              "         [0.14117648, 0.20784314, 0.23529412],\n",
              "         [0.16862746, 0.23529412, 0.27058825],\n",
              "         [0.1882353 , 0.24313726, 0.29411766]],\n",
              "\n",
              "        [[0.38039216, 0.45490196, 0.53333336],\n",
              "         [0.10980392, 0.17254902, 0.20392157],\n",
              "         [0.03137255, 0.07843138, 0.04313726],\n",
              "         ...,\n",
              "         [0.13725491, 0.20784314, 0.23137255],\n",
              "         [0.15686275, 0.22745098, 0.2627451 ],\n",
              "         [0.1764706 , 0.23529412, 0.28235295]],\n",
              "\n",
              "        [[0.7176471 , 0.7882353 , 0.9411765 ],\n",
              "         [0.5254902 , 0.58431375, 0.6862745 ],\n",
              "         [0.10196079, 0.15686275, 0.18039216],\n",
              "         ...,\n",
              "         [0.13333334, 0.2       , 0.23137255],\n",
              "         [0.14117648, 0.21176471, 0.24705882],\n",
              "         [0.16078432, 0.22352941, 0.26666668]],\n",
              "\n",
              "        ...,\n",
              "\n",
              "        [[0.4627451 , 0.47058824, 0.7882353 ],\n",
              "         [0.58431375, 0.54901963, 0.8980392 ],\n",
              "         [0.5882353 , 0.52156866, 0.83137256],\n",
              "         ...,\n",
              "         [0.35686275, 0.31764707, 0.5294118 ],\n",
              "         [0.4627451 , 0.46666667, 0.7372549 ],\n",
              "         [0.59607846, 0.6156863 , 0.85490197]],\n",
              "\n",
              "        [[0.42352942, 0.40784314, 0.77254903],\n",
              "         [0.5529412 , 0.5058824 , 0.8509804 ],\n",
              "         [0.56078434, 0.48235294, 0.7921569 ],\n",
              "         ...,\n",
              "         [0.3372549 , 0.37254903, 0.57254905],\n",
              "         [0.5058824 , 0.5411765 , 0.827451  ],\n",
              "         [0.6117647 , 0.61960787, 0.80784315]],\n",
              "\n",
              "        [[0.39215687, 0.36862746, 0.7490196 ],\n",
              "         [0.5176471 , 0.4627451 , 0.80784315],\n",
              "         [0.5137255 , 0.43137255, 0.7411765 ],\n",
              "         ...,\n",
              "         [0.43529412, 0.49019608, 0.6862745 ],\n",
              "         [0.47843137, 0.5254902 , 0.80784315],\n",
              "         [0.6039216 , 0.6       , 0.7764706 ]]],\n",
              "\n",
              "\n",
              "       [[[0.40392157, 0.3647059 , 0.29411766],\n",
              "         [0.40784314, 0.38039216, 0.30588236],\n",
              "         [0.40392157, 0.4       , 0.3137255 ],\n",
              "         ...,\n",
              "         [0.16078432, 0.3019608 , 0.19215687],\n",
              "         [0.15686275, 0.29803923, 0.1882353 ],\n",
              "         [0.16078432, 0.3019608 , 0.19215687]],\n",
              "\n",
              "        [[0.39215687, 0.35686275, 0.28235295],\n",
              "         [0.38431373, 0.36078432, 0.28627452],\n",
              "         [0.3882353 , 0.39215687, 0.30588236],\n",
              "         ...,\n",
              "         [0.16470589, 0.29803923, 0.19215687],\n",
              "         [0.16078432, 0.29803923, 0.19215687],\n",
              "         [0.16470589, 0.3019608 , 0.19607843]],\n",
              "\n",
              "        [[0.39607844, 0.3647059 , 0.2901961 ],\n",
              "         [0.3647059 , 0.3529412 , 0.27058825],\n",
              "         [0.3647059 , 0.38039216, 0.2901961 ],\n",
              "         ...,\n",
              "         [0.1764706 , 0.2901961 , 0.19215687],\n",
              "         [0.1764706 , 0.29411766, 0.19215687],\n",
              "         [0.18039216, 0.29803923, 0.19607843]],\n",
              "\n",
              "        ...,\n",
              "\n",
              "        [[0.21176471, 0.14509805, 0.11372549],\n",
              "         [0.24705882, 0.18039216, 0.15294118],\n",
              "         [0.28627452, 0.21176471, 0.1882353 ],\n",
              "         ...,\n",
              "         [0.12156863, 0.17254902, 0.11372549],\n",
              "         [0.11764706, 0.13333334, 0.09803922],\n",
              "         [0.12941177, 0.13725491, 0.10980392]],\n",
              "\n",
              "        [[0.21960784, 0.16078432, 0.14901961],\n",
              "         [0.25490198, 0.19215687, 0.1764706 ],\n",
              "         [0.2901961 , 0.22352941, 0.20392157],\n",
              "         ...,\n",
              "         [0.12941177, 0.16862746, 0.11372549],\n",
              "         [0.14901961, 0.15294118, 0.1254902 ],\n",
              "         [0.16078432, 0.15686275, 0.13725491]],\n",
              "\n",
              "        [[0.22745098, 0.17254902, 0.16078432],\n",
              "         [0.2627451 , 0.20392157, 0.19215687],\n",
              "         [0.29803923, 0.23529412, 0.21568628],\n",
              "         ...,\n",
              "         [0.17254902, 0.20784314, 0.15686275],\n",
              "         [0.2       , 0.2       , 0.1764706 ],\n",
              "         [0.19607843, 0.1882353 , 0.17254902]]]], dtype=float32)"
            ]
          },
          "metadata": {},
          "execution_count": 4
        }
      ]
    },
    {
      "cell_type": "code",
      "source": [
        "y"
      ],
      "metadata": {
        "colab": {
          "base_uri": "https://localhost:8080/"
        },
        "id": "LsYceBRtXhvz",
        "outputId": "740aad88-88b3-4011-c05c-fc3aab796a97"
      },
      "execution_count": 5,
      "outputs": [
        {
          "output_type": "execute_result",
          "data": {
            "text/plain": [
              "array([[0., 0., 0., ..., 0., 0., 0.],\n",
              "       [0., 0., 0., ..., 0., 0., 0.],\n",
              "       [0., 0., 1., ..., 0., 0., 0.],\n",
              "       ...,\n",
              "       [0., 0., 0., ..., 0., 0., 1.],\n",
              "       [0., 0., 0., ..., 0., 0., 0.],\n",
              "       [0., 1., 0., ..., 0., 0., 0.]])"
            ]
          },
          "metadata": {},
          "execution_count": 5
        }
      ]
    },
    {
      "cell_type": "code",
      "source": [
        "x.shape"
      ],
      "metadata": {
        "colab": {
          "base_uri": "https://localhost:8080/"
        },
        "id": "0DDm8dyTXkRy",
        "outputId": "8279ac8f-feb3-44aa-905d-b50ceb9fd58e"
      },
      "execution_count": 7,
      "outputs": [
        {
          "output_type": "execute_result",
          "data": {
            "text/plain": [
              "(1360, 224, 224, 3)"
            ]
          },
          "metadata": {},
          "execution_count": 7
        }
      ]
    },
    {
      "cell_type": "code",
      "source": [
        "y.shape"
      ],
      "metadata": {
        "colab": {
          "base_uri": "https://localhost:8080/"
        },
        "id": "IQbwOCsqXsw8",
        "outputId": "5c3e38d5-8dc8-408c-f485-077d8a09c99e"
      },
      "execution_count": 8,
      "outputs": [
        {
          "output_type": "execute_result",
          "data": {
            "text/plain": [
              "(1360, 17)"
            ]
          },
          "metadata": {},
          "execution_count": 8
        }
      ]
    },
    {
      "cell_type": "code",
      "source": [
        "# Create a sequential model\n",
        "model = Sequential()\n",
        "\n",
        "# 1st Convolutional Layer\n",
        "model.add(Conv2D(filters=96, input_shape=(224,224,3), kernel_size=(11,11), strides=(4,4), padding='valid'))\n",
        "model.add(Activation('relu'))\n",
        "\n",
        "# Pooling \n",
        "model.add(MaxPooling2D(pool_size=(3,3), strides=(2,2), padding='valid'))\n",
        "# Batch Normalisation before passing it to the next layer\n",
        "model.add(BatchNormalization())\n",
        "\n",
        "# 2nd Convolutional Layer\n",
        "model.add(Conv2D(filters=256, kernel_size=(5,5), strides=(1,1), padding='same'))\n",
        "model.add(Activation('relu'))\n",
        "\n",
        "# Pooling\n",
        "model.add(MaxPooling2D(pool_size=(3,3), strides=(2,2), padding='valid'))\n",
        "# Batch Normalisation\n",
        "model.add(BatchNormalization())\n",
        "\n",
        "\n",
        "\n",
        "# 3rd Convolutional Layer\n",
        "model.add(Conv2D(filters=384, kernel_size=(3,3), strides=(1,1), padding='valid'))\n",
        "model.add(Activation('relu'))\n",
        "# Batch Normalisation\n",
        "model.add(BatchNormalization())\n",
        "\n",
        "# 4th Convolutional Layer\n",
        "model.add(Conv2D(filters=384, kernel_size=(3,3), strides=(1,1), padding='valid'))\n",
        "model.add(Activation('relu'))\n",
        "# Batch Normalisation\n",
        "model.add(BatchNormalization())\n",
        "\n",
        "\n",
        "# 5th Convolutional Layer\n",
        "model.add(Conv2D(filters=256, kernel_size=(3,3), strides=(1,1), padding='valid'))\n",
        "model.add(Activation('relu'))\n",
        "\n",
        "\n",
        "# Pooling\n",
        "model.add(MaxPooling2D(pool_size=(3,3), strides=(2,2), padding='valid'))\n",
        "# Batch Normalisation\n",
        "model.add(BatchNormalization())\n",
        "\n",
        "\n",
        "# Passing it to a dense layer\n",
        "model.add(Flatten())\n",
        "\n",
        "# 1st Dense Layer\n",
        "model.add(Dense(4096, input_shape=(224*224*3,)))\n",
        "model.add(Activation('relu'))\n",
        "# Add Dropout to prevent overfitting\n",
        "model.add(Dropout(0.4))\n",
        "# Batch Normalisation\n",
        "model.add(BatchNormalization())\n",
        "\n",
        "# 2nd Dense Layer\n",
        "model.add(Dense(4096))\n",
        "model.add(Activation('relu'))\n",
        "# Add Dropout\n",
        "model.add(Dropout(0.4))\n",
        "# Batch Normalisation\n",
        "model.add(BatchNormalization())\n",
        "\n",
        "# Output Layer\n",
        "model.add(Dense(17))\n",
        "model.add(Activation('softmax'))\n",
        "\n",
        "model.summary()"
      ],
      "metadata": {
        "colab": {
          "base_uri": "https://localhost:8080/"
        },
        "id": "Eas7XYmzX4qB",
        "outputId": "c9875b3e-494b-44a0-a9eb-6bdb38bebf93"
      },
      "execution_count": 9,
      "outputs": [
        {
          "output_type": "stream",
          "name": "stderr",
          "text": [
            "WARNING:tensorflow:From /usr/local/lib/python3.7/dist-packages/keras/layers/normalization/batch_normalization.py:514: _colocate_with (from tensorflow.python.framework.ops) is deprecated and will be removed in a future version.\n",
            "Instructions for updating:\n",
            "Colocations handled automatically by placer.\n"
          ]
        },
        {
          "output_type": "stream",
          "name": "stdout",
          "text": [
            "Model: \"sequential\"\n",
            "_________________________________________________________________\n",
            " Layer (type)                Output Shape              Param #   \n",
            "=================================================================\n",
            " conv2d (Conv2D)             (None, 54, 54, 96)        34944     \n",
            "                                                                 \n",
            " activation (Activation)     (None, 54, 54, 96)        0         \n",
            "                                                                 \n",
            " max_pooling2d (MaxPooling2D  (None, 26, 26, 96)       0         \n",
            " )                                                               \n",
            "                                                                 \n",
            " batch_normalization (BatchN  (None, 26, 26, 96)       384       \n",
            " ormalization)                                                   \n",
            "                                                                 \n",
            " conv2d_1 (Conv2D)           (None, 26, 26, 256)       614656    \n",
            "                                                                 \n",
            " activation_1 (Activation)   (None, 26, 26, 256)       0         \n",
            "                                                                 \n",
            " max_pooling2d_1 (MaxPooling  (None, 12, 12, 256)      0         \n",
            " 2D)                                                             \n",
            "                                                                 \n",
            " batch_normalization_1 (Batc  (None, 12, 12, 256)      1024      \n",
            " hNormalization)                                                 \n",
            "                                                                 \n",
            " conv2d_2 (Conv2D)           (None, 10, 10, 384)       885120    \n",
            "                                                                 \n",
            " activation_2 (Activation)   (None, 10, 10, 384)       0         \n",
            "                                                                 \n",
            " batch_normalization_2 (Batc  (None, 10, 10, 384)      1536      \n",
            " hNormalization)                                                 \n",
            "                                                                 \n",
            " conv2d_3 (Conv2D)           (None, 8, 8, 384)         1327488   \n",
            "                                                                 \n",
            " activation_3 (Activation)   (None, 8, 8, 384)         0         \n",
            "                                                                 \n",
            " batch_normalization_3 (Batc  (None, 8, 8, 384)        1536      \n",
            " hNormalization)                                                 \n",
            "                                                                 \n",
            " conv2d_4 (Conv2D)           (None, 6, 6, 256)         884992    \n",
            "                                                                 \n",
            " activation_4 (Activation)   (None, 6, 6, 256)         0         \n",
            "                                                                 \n",
            " max_pooling2d_2 (MaxPooling  (None, 2, 2, 256)        0         \n",
            " 2D)                                                             \n",
            "                                                                 \n",
            " batch_normalization_4 (Batc  (None, 2, 2, 256)        1024      \n",
            " hNormalization)                                                 \n",
            "                                                                 \n",
            " flatten (Flatten)           (None, 1024)              0         \n",
            "                                                                 \n",
            " dense (Dense)               (None, 4096)              4198400   \n",
            "                                                                 \n",
            " activation_5 (Activation)   (None, 4096)              0         \n",
            "                                                                 \n",
            " dropout (Dropout)           (None, 4096)              0         \n",
            "                                                                 \n",
            " batch_normalization_5 (Batc  (None, 4096)             16384     \n",
            " hNormalization)                                                 \n",
            "                                                                 \n",
            " dense_1 (Dense)             (None, 4096)              16781312  \n",
            "                                                                 \n",
            " activation_6 (Activation)   (None, 4096)              0         \n",
            "                                                                 \n",
            " dropout_1 (Dropout)         (None, 4096)              0         \n",
            "                                                                 \n",
            " batch_normalization_6 (Batc  (None, 4096)             16384     \n",
            " hNormalization)                                                 \n",
            "                                                                 \n",
            " dense_2 (Dense)             (None, 17)                69649     \n",
            "                                                                 \n",
            " activation_7 (Activation)   (None, 17)                0         \n",
            "                                                                 \n",
            "=================================================================\n",
            "Total params: 24,834,833\n",
            "Trainable params: 24,815,697\n",
            "Non-trainable params: 19,136\n",
            "_________________________________________________________________\n"
          ]
        }
      ]
    },
    {
      "cell_type": "code",
      "source": [
        "# Compile \n",
        "opt = tf.optimizers.Adam(learning_rate = 0.01)  #here adam optimizer is used instead of SGD\n",
        "model.compile(loss='categorical_crossentropy', optimizer=opt, metrics=['accuracy'])\n",
        "\n"
      ],
      "metadata": {
        "id": "A9sMbiPZaOFU"
      },
      "execution_count": 10,
      "outputs": []
    },
    {
      "cell_type": "code",
      "source": [
        "#The job of the OPTIMIZATION algorithm is to find a set of internal model parameters that perform well against some performance measure such as logarithmic loss or mean squared error or categorical cross entropy.\n",
        "\n",
        "#Optimization is a type of searching process and you can think of this search as learning. \n",
        "#The optimization algorithm is called “gradient descent“, where “gradient” refers to the calculation of an error gradient or slope of error and “descent” refers to the moving down along that slope towards some minimum level of error.\n",
        "#The batch size is a hyperparameter that defines the number of samples to work through before updating the internal model parameters.\n",
        "#The number of epochs is a hyperparameter that defines the number times that the learning algorithm will work through the entire training dataset.\n",
        "\n",
        "#One epoch means that each sample in the training dataset has had an opportunity to update the internal model parameters. An epoch is comprised of one or more batches. For example, as above, an epoch that has one batch is called the batch gradient descent learning algorithm."
      ],
      "metadata": {
        "id": "DpQH6DUz7OqF"
      },
      "execution_count": 14,
      "outputs": []
    },
    {
      "cell_type": "code",
      "source": [
        "# Train\n",
        "model.fit(x, y, batch_size=64, epochs=5, verbose=1,validation_split=0.2, shuffle=True)"
      ],
      "metadata": {
        "colab": {
          "base_uri": "https://localhost:8080/"
        },
        "id": "2rgod3O1ap1C",
        "outputId": "536be06b-85e0-4c83-cccb-0b22430d6217"
      },
      "execution_count": 11,
      "outputs": [
        {
          "output_type": "stream",
          "name": "stdout",
          "text": [
            "Train on 1088 samples, validate on 272 samples\n",
            "Epoch 1/5\n",
            "1088/1088 [==============================] - ETA: 0s - loss: 9.0954 - acc: 0.1397"
          ]
        },
        {
          "output_type": "stream",
          "name": "stderr",
          "text": [
            "/usr/local/lib/python3.7/dist-packages/keras/engine/training_v1.py:2045: UserWarning: `Model.state_updates` will be removed in a future version. This property should not be used in TensorFlow 2.0, as `updates` are applied automatically.\n",
            "  updates = self.state_updates\n"
          ]
        },
        {
          "output_type": "stream",
          "name": "stdout",
          "text": [
            "\b\b\b\b\b\b\b\b\b\b\b\b\b\b\b\b\b\b\b\b\b\b\b\b\b\b\b\b\b\b\b\b\b\b\b\b\b\b\b\b\b\b\b\b\b\b\b\b\b\b\b\b\b\b\b\b\b\b\b\b\b\b\b\b\b\b\b\b\b\b\b\b\b\b\b\b\b\b\b\b\b\r1088/1088 [==============================] - 112s 103ms/sample - loss: 9.0954 - acc: 0.1397 - val_loss: 107722.1140 - val_acc: 0.0478\n",
            "Epoch 2/5\n",
            "1088/1088 [==============================] - 111s 102ms/sample - loss: 5.8213 - acc: 0.2261 - val_loss: 10062.1197 - val_acc: 0.0809\n",
            "Epoch 3/5\n",
            "1088/1088 [==============================] - 113s 104ms/sample - loss: 4.4339 - acc: 0.2509 - val_loss: 2090.7060 - val_acc: 0.0809\n",
            "Epoch 4/5\n",
            "1088/1088 [==============================] - 115s 105ms/sample - loss: 3.4393 - acc: 0.2914 - val_loss: 556.4983 - val_acc: 0.0882\n",
            "Epoch 5/5\n",
            "1088/1088 [==============================] - 112s 103ms/sample - loss: 3.5722 - acc: 0.3134 - val_loss: 243.4568 - val_acc: 0.1471\n"
          ]
        },
        {
          "output_type": "execute_result",
          "data": {
            "text/plain": [
              "<keras.callbacks.History at 0x7f8885541590>"
            ]
          },
          "metadata": {},
          "execution_count": 11
        }
      ]
    },
    {
      "cell_type": "code",
      "source": [],
      "metadata": {
        "id": "sK7qEdLia0-M"
      },
      "execution_count": null,
      "outputs": []
    }
  ]
}